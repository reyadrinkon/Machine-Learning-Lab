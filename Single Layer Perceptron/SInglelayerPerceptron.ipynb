{
  "nbformat": 4,
  "nbformat_minor": 0,
  "metadata": {
    "colab": {
      "name": "Lab3_2017331034_2017331024.ipynb",
      "provenance": []
    },
    "kernelspec": {
      "name": "python3",
      "display_name": "Python 3"
    },
    "language_info": {
      "name": "python"
    }
  },
  "cells": [
    {
      "cell_type": "markdown",
      "source": [
        "**Gradient Descent**\n",
        "\n",
        "The goal of the gradient descent is to minimise a given function which, in our case, is the loss function of the neural network. To achieve this goal, it performs two steps iteratively.\n",
        "1. Compute the slope (gradient) that is the first-order derivative of the function at the current point\n",
        "2. Move-in the opposite direction of the slope increase from the current point by the computed amount\n",
        "\n",
        "So, the idea is to pass the training set through the hidden layers of the neural network and then update the parameters of the layers by computing the gradients using the training samples from the training dataset.\n",
        "\n",
        "**Stochastic Gradient Descent**\n",
        "\n",
        "In Gradient Descent we were considering all the examples for every step of Gradient Descent. But what if our dataset is very huge. Deep learning models crave for data. The more the data the more chances of a model to be good. Suppose our dataset has 5 million examples, then just to take one step the model will have to calculate the gradients of all the 5 million examples. This does not seem an efficient way. To tackle this problem we have Stochastic Gradient Descent. In Stochastic Gradient Descent (SGD), we consider just one example at a time to take a single step. We do the following steps in one epoch for SGD:\n",
        "\n",
        "1. Take an example\n",
        "2. Feed it to Neural Network\n",
        "3. Calculate it’s gradient\n",
        "4. Use the gradient we calculated in step 3 to update the weights\n",
        "5. Repeat steps 1–4 for all the examples in training dataset\n",
        "\n",
        "Since we are considering just one example at a time the cost will fluctuate over the training examples and it will not necessarily decrease. But in the long run, you will see the cost decreasing with fluctuations.\n",
        "\n",
        "\n",
        "**Mini Batch Gradient Descent**\n",
        "\n",
        "Neither we use all the dataset all at once nor we use the single example at a time. We use a batch of a fixed number of training examples which is less than the actual dataset and call it a mini-batch. Doing this helps us achieve the advantages of both the former variants we saw. So, after creating the mini-batches of fixed size, we do the following steps in one epoch:\n",
        "\n",
        "\n",
        "1. Pick a mini-batch\n",
        "2. Feed it to Neural Network\n",
        "3. Calculate the mean gradient of the mini-batch\n",
        "4. Use the mean gradient we calculated in step 3 to update the weights\n",
        "5. Repeat steps 1–4 for the mini-batches we created\n",
        "\n"
      ],
      "metadata": {
        "id": "n6KJAY6gaml9"
      }
    },
    {
      "cell_type": "code",
      "execution_count": 54,
      "metadata": {
        "id": "mNozjRHBPwSa"
      },
      "outputs": [],
      "source": [
        "import numpy as np\n",
        "import sklearn\n",
        "import seaborn as sns\n",
        "import matplotlib.pyplot as plt\n",
        "import pandas as pd\n",
        "from sklearn import datasets\n",
        "from sklearn.datasets import load_iris\n",
        "from sklearn.model_selection import train_test_split\n",
        "import random\n",
        "from sklearn.metrics import accuracy_score"
      ]
    },
    {
      "cell_type": "markdown",
      "source": [
        "#Loading Data"
      ],
      "metadata": {
        "id": "Nn-58gwiQoCX"
      }
    },
    {
      "cell_type": "code",
      "source": [
        "iris=load_iris()\n",
        "X,y = iris['data'],iris['target']\n",
        "\n",
        "df = pd.DataFrame(iris.data, columns = iris.feature_names)\n",
        "df['target'] = iris.target\n",
        "df.head()"
      ],
      "metadata": {
        "colab": {
          "base_uri": "https://localhost:8080/",
          "height": 206
        },
        "id": "n94ZVuZwP1B4",
        "outputId": "d77ebf79-2ba1-49e0-b4c6-3550cea57d58"
      },
      "execution_count": 55,
      "outputs": [
        {
          "output_type": "execute_result",
          "data": {
            "text/plain": [
              "   sepal length (cm)  sepal width (cm)  petal length (cm)  petal width (cm)  \\\n",
              "0                5.1               3.5                1.4               0.2   \n",
              "1                4.9               3.0                1.4               0.2   \n",
              "2                4.7               3.2                1.3               0.2   \n",
              "3                4.6               3.1                1.5               0.2   \n",
              "4                5.0               3.6                1.4               0.2   \n",
              "\n",
              "   target  \n",
              "0       0  \n",
              "1       0  \n",
              "2       0  \n",
              "3       0  \n",
              "4       0  "
            ],
            "text/html": [
              "\n",
              "  <div id=\"df-d7f6d848-3b0b-445a-96c4-fcc4923238ff\">\n",
              "    <div class=\"colab-df-container\">\n",
              "      <div>\n",
              "<style scoped>\n",
              "    .dataframe tbody tr th:only-of-type {\n",
              "        vertical-align: middle;\n",
              "    }\n",
              "\n",
              "    .dataframe tbody tr th {\n",
              "        vertical-align: top;\n",
              "    }\n",
              "\n",
              "    .dataframe thead th {\n",
              "        text-align: right;\n",
              "    }\n",
              "</style>\n",
              "<table border=\"1\" class=\"dataframe\">\n",
              "  <thead>\n",
              "    <tr style=\"text-align: right;\">\n",
              "      <th></th>\n",
              "      <th>sepal length (cm)</th>\n",
              "      <th>sepal width (cm)</th>\n",
              "      <th>petal length (cm)</th>\n",
              "      <th>petal width (cm)</th>\n",
              "      <th>target</th>\n",
              "    </tr>\n",
              "  </thead>\n",
              "  <tbody>\n",
              "    <tr>\n",
              "      <th>0</th>\n",
              "      <td>5.1</td>\n",
              "      <td>3.5</td>\n",
              "      <td>1.4</td>\n",
              "      <td>0.2</td>\n",
              "      <td>0</td>\n",
              "    </tr>\n",
              "    <tr>\n",
              "      <th>1</th>\n",
              "      <td>4.9</td>\n",
              "      <td>3.0</td>\n",
              "      <td>1.4</td>\n",
              "      <td>0.2</td>\n",
              "      <td>0</td>\n",
              "    </tr>\n",
              "    <tr>\n",
              "      <th>2</th>\n",
              "      <td>4.7</td>\n",
              "      <td>3.2</td>\n",
              "      <td>1.3</td>\n",
              "      <td>0.2</td>\n",
              "      <td>0</td>\n",
              "    </tr>\n",
              "    <tr>\n",
              "      <th>3</th>\n",
              "      <td>4.6</td>\n",
              "      <td>3.1</td>\n",
              "      <td>1.5</td>\n",
              "      <td>0.2</td>\n",
              "      <td>0</td>\n",
              "    </tr>\n",
              "    <tr>\n",
              "      <th>4</th>\n",
              "      <td>5.0</td>\n",
              "      <td>3.6</td>\n",
              "      <td>1.4</td>\n",
              "      <td>0.2</td>\n",
              "      <td>0</td>\n",
              "    </tr>\n",
              "  </tbody>\n",
              "</table>\n",
              "</div>\n",
              "      <button class=\"colab-df-convert\" onclick=\"convertToInteractive('df-d7f6d848-3b0b-445a-96c4-fcc4923238ff')\"\n",
              "              title=\"Convert this dataframe to an interactive table.\"\n",
              "              style=\"display:none;\">\n",
              "        \n",
              "  <svg xmlns=\"http://www.w3.org/2000/svg\" height=\"24px\"viewBox=\"0 0 24 24\"\n",
              "       width=\"24px\">\n",
              "    <path d=\"M0 0h24v24H0V0z\" fill=\"none\"/>\n",
              "    <path d=\"M18.56 5.44l.94 2.06.94-2.06 2.06-.94-2.06-.94-.94-2.06-.94 2.06-2.06.94zm-11 1L8.5 8.5l.94-2.06 2.06-.94-2.06-.94L8.5 2.5l-.94 2.06-2.06.94zm10 10l.94 2.06.94-2.06 2.06-.94-2.06-.94-.94-2.06-.94 2.06-2.06.94z\"/><path d=\"M17.41 7.96l-1.37-1.37c-.4-.4-.92-.59-1.43-.59-.52 0-1.04.2-1.43.59L10.3 9.45l-7.72 7.72c-.78.78-.78 2.05 0 2.83L4 21.41c.39.39.9.59 1.41.59.51 0 1.02-.2 1.41-.59l7.78-7.78 2.81-2.81c.8-.78.8-2.07 0-2.86zM5.41 20L4 18.59l7.72-7.72 1.47 1.35L5.41 20z\"/>\n",
              "  </svg>\n",
              "      </button>\n",
              "      \n",
              "  <style>\n",
              "    .colab-df-container {\n",
              "      display:flex;\n",
              "      flex-wrap:wrap;\n",
              "      gap: 12px;\n",
              "    }\n",
              "\n",
              "    .colab-df-convert {\n",
              "      background-color: #E8F0FE;\n",
              "      border: none;\n",
              "      border-radius: 50%;\n",
              "      cursor: pointer;\n",
              "      display: none;\n",
              "      fill: #1967D2;\n",
              "      height: 32px;\n",
              "      padding: 0 0 0 0;\n",
              "      width: 32px;\n",
              "    }\n",
              "\n",
              "    .colab-df-convert:hover {\n",
              "      background-color: #E2EBFA;\n",
              "      box-shadow: 0px 1px 2px rgba(60, 64, 67, 0.3), 0px 1px 3px 1px rgba(60, 64, 67, 0.15);\n",
              "      fill: #174EA6;\n",
              "    }\n",
              "\n",
              "    [theme=dark] .colab-df-convert {\n",
              "      background-color: #3B4455;\n",
              "      fill: #D2E3FC;\n",
              "    }\n",
              "\n",
              "    [theme=dark] .colab-df-convert:hover {\n",
              "      background-color: #434B5C;\n",
              "      box-shadow: 0px 1px 3px 1px rgba(0, 0, 0, 0.15);\n",
              "      filter: drop-shadow(0px 1px 2px rgba(0, 0, 0, 0.3));\n",
              "      fill: #FFFFFF;\n",
              "    }\n",
              "  </style>\n",
              "\n",
              "      <script>\n",
              "        const buttonEl =\n",
              "          document.querySelector('#df-d7f6d848-3b0b-445a-96c4-fcc4923238ff button.colab-df-convert');\n",
              "        buttonEl.style.display =\n",
              "          google.colab.kernel.accessAllowed ? 'block' : 'none';\n",
              "\n",
              "        async function convertToInteractive(key) {\n",
              "          const element = document.querySelector('#df-d7f6d848-3b0b-445a-96c4-fcc4923238ff');\n",
              "          const dataTable =\n",
              "            await google.colab.kernel.invokeFunction('convertToInteractive',\n",
              "                                                     [key], {});\n",
              "          if (!dataTable) return;\n",
              "\n",
              "          const docLinkHtml = 'Like what you see? Visit the ' +\n",
              "            '<a target=\"_blank\" href=https://colab.research.google.com/notebooks/data_table.ipynb>data table notebook</a>'\n",
              "            + ' to learn more about interactive tables.';\n",
              "          element.innerHTML = '';\n",
              "          dataTable['output_type'] = 'display_data';\n",
              "          await google.colab.output.renderOutput(dataTable, element);\n",
              "          const docLink = document.createElement('div');\n",
              "          docLink.innerHTML = docLinkHtml;\n",
              "          element.appendChild(docLink);\n",
              "        }\n",
              "      </script>\n",
              "    </div>\n",
              "  </div>\n",
              "  "
            ]
          },
          "metadata": {},
          "execution_count": 55
        }
      ]
    },
    {
      "cell_type": "markdown",
      "source": [
        "#Visualize Data"
      ],
      "metadata": {
        "id": "jwaDMSbDQvRS"
      }
    },
    {
      "cell_type": "code",
      "source": [
        "data = pd.DataFrame(data= np.c_[iris['data'], iris['target']],columns= iris['feature_names'] + ['target'])\n",
        "sns.set()\n",
        "sns.pairplot(data)"
      ],
      "metadata": {
        "colab": {
          "base_uri": "https://localhost:8080/",
          "height": 918
        },
        "id": "rSwPrOdoQyc9",
        "outputId": "43e2540f-c7a3-473e-82bf-0486b91cef92"
      },
      "execution_count": 77,
      "outputs": [
        {
          "output_type": "execute_result",
          "data": {
            "text/plain": [
              "<seaborn.axisgrid.PairGrid at 0x7f7bf28383d0>"
            ]
          },
          "metadata": {},
          "execution_count": 77
        },
        {
          "output_type": "display_data",
          "data": {
            "text/plain": [
              "<Figure size 900x900 with 30 Axes>"
            ],
            "image/png": "[encoded data removed]"
          },
          "metadata": {}
        }
      ]
    },
    {
      "cell_type": "code",
      "source": [
        "X_train,X_test,Y_train,Y_test = train_test_split(X,y,test_size=0.3,random_state=35)\n",
        "def softmax(x):\n",
        "    expX = np.exp(x)\n",
        "    return expX/np.sum(expX, axis=0,keepdims=True)\n",
        "\n",
        "def to_one_hot(y):\n",
        "    n_classes = y.max() + 1\n",
        "    m = len(y)\n",
        "    Y_one_hot = np.zeros((m, n_classes))\n",
        "    Y_one_hot[np.arange(m), y] = 1\n",
        "    return Y_one_hot\n",
        "\n",
        "def cost_function(a, y):\n",
        "    m = y.shape[0]\n",
        "    cost = -(1/m)*np.sum(y * np.log(a))\n",
        "    return cost\n",
        "\n"
      ],
      "metadata": {
        "id": "Q_w2hprgQ2ru"
      },
      "execution_count": 57,
      "outputs": []
    },
    {
      "cell_type": "markdown",
      "source": [
        "#Single Layer Perceptron"
      ],
      "metadata": {
        "id": "k07bVHJ8TAC4"
      }
    },
    {
      "cell_type": "code",
      "source": [
        "def single_layer_perceptron(X, Y, learning_rate, epoch):\n",
        "    cost = []\n",
        "    \n",
        "    n_x = X.shape[1]\n",
        "    n_y = len(np.unique(Y))\n",
        "    W = np.random.randn(n_y,n_x)\n",
        "    \n",
        "    Y = to_one_hot(Y)\n",
        "    m = X.shape[1]\n",
        "    \n",
        "\n",
        "    for i in range(epoch):\n",
        "        z = np.dot(W,X.T)\n",
        "        a = softmax(z)\n",
        "        loss = cost_function(a,Y.T)\n",
        "        cost.append(loss)\n",
        "        dz = a.T - Y\n",
        "        dw = (1/m)*np.dot(X.T,dz)\n",
        "        W = W - (learning_rate * dw.T)\n",
        "    return W.T\n"
      ],
      "metadata": {
        "id": "XJL0z5m4TjWv"
      },
      "execution_count": 58,
      "outputs": []
    },
    {
      "cell_type": "markdown",
      "source": [
        "**Result**"
      ],
      "metadata": {
        "id": "HG_DkhXLeDcF"
      }
    },
    {
      "cell_type": "code",
      "source": [
        "result = single_layer_perceptron(X_train,Y_train,learning_rate = 0.001, epoch = 10000)  "
      ],
      "metadata": {
        "id": "CmNa2vGMeIMG"
      },
      "execution_count": 78,
      "outputs": []
    },
    {
      "cell_type": "markdown",
      "source": [
        "**Prediction using single layer perceptron**"
      ],
      "metadata": {
        "id": "r1VS8N-VTyPA"
      }
    },
    {
      "cell_type": "code",
      "source": [
        "prediction = np.dot(X_train,result)\n",
        "prediction = np.argmax(prediction,axis=1)\n",
        "print(prediction)"
      ],
      "metadata": {
        "colab": {
          "base_uri": "https://localhost:8080/"
        },
        "id": "uFQalRwVT4Kx",
        "outputId": "0e638265-fcae-423a-cacb-16eaae1d1062"
      },
      "execution_count": 59,
      "outputs": [
        {
          "output_type": "stream",
          "name": "stdout",
          "text": [
            "[2 0 2 2 1 2 1 1 1 0 1 1 1 0 1 0 2 0 2 1 1 0 0 2 2 1 1 0 0 1 0 1 0 0 1 0 2\n",
            " 2 0 0 1 2 1 1 2 1 0 2 2 2 1 0 1 2 2 0 2 1 0 0 0 1 0 2 2 2 1 2 1 2 2 1 0 0\n",
            " 1 2 1 2 1 0 1 0 2 1 0 2 0 2 0 1 0 0 2 0 2 2 1 1 1 2 1 2 2 0 0]\n"
          ]
        }
      ]
    },
    {
      "cell_type": "markdown",
      "source": [
        "**Testing using single layer perceptron**"
      ],
      "metadata": {
        "id": "2T4EHnceUDrM"
      }
    },
    {
      "cell_type": "code",
      "source": [
        "test = np.dot(X_test,result)\n",
        "test = np.argmax(test,axis=1)\n",
        "print(test)"
      ],
      "metadata": {
        "colab": {
          "base_uri": "https://localhost:8080/"
        },
        "id": "bqu4re4EUIyn",
        "outputId": "7d440a3c-fcfb-4281-a501-d7ed32a90aff"
      },
      "execution_count": 60,
      "outputs": [
        {
          "output_type": "stream",
          "name": "stdout",
          "text": [
            "[1 1 2 1 0 2 2 1 1 0 2 2 0 2 0 2 1 0 0 0 1 1 2 1 0 0 0 2 0 2 0 2 2 0 1 2 0\n",
            " 2 2 2 1 0 0 1 2]\n"
          ]
        }
      ]
    },
    {
      "cell_type": "markdown",
      "source": [
        "**Accuracy table**"
      ],
      "metadata": {
        "id": "ykhFPsMiUMHn"
      }
    },
    {
      "cell_type": "code",
      "source": [
        "training_accuracy = accuracy_score(Y_train,prediction)\n",
        "test_accuracy = accuracy_score(Y_test,test)\n",
        "x1=training_accuracy\n",
        "y1=test_accuracy"
      ],
      "metadata": {
        "id": "7tbMECBMUd1u"
      },
      "execution_count": 61,
      "outputs": []
    },
    {
      "cell_type": "code",
      "source": [
        "from prettytable import PrettyTable\n",
        "acc_table= PrettyTable([\"training_accuracy using single layer perceptron\", \"test_accuracy using single layer perceptron\"])\n",
        "acc_table.add_row([training_accuracy,test_accuracy])\n",
        "print(acc_table)\n",
        "\n"
      ],
      "metadata": {
        "colab": {
          "base_uri": "https://localhost:8080/"
        },
        "id": "G-VdUFD2UqSd",
        "outputId": "ec396276-cc51-4a1c-fccf-43e7b9b50b51"
      },
      "execution_count": 62,
      "outputs": [
        {
          "output_type": "stream",
          "name": "stdout",
          "text": [
            "+-------------------------------------------------+---------------------------------------------+\n",
            "| training_accuracy using single layer perceptron | test_accuracy using single layer perceptron |\n",
            "+-------------------------------------------------+---------------------------------------------+\n",
            "|                0.9809523809523809               |              0.9555555555555556             |\n",
            "+-------------------------------------------------+---------------------------------------------+\n"
          ]
        }
      ]
    },
    {
      "cell_type": "markdown",
      "source": [
        "#Single Layer Perceptron using Minibatch"
      ],
      "metadata": {
        "id": "Lq2MHJrdVi-6"
      }
    },
    {
      "cell_type": "code",
      "source": [
        "def get_batches(X,Y,size,i):\n",
        "    X_n = X[i:i+size,:]\n",
        "    Y_n = Y[i:i+size]    \n",
        "    return X_n, Y_n\n",
        "def mini_batch_gd(X, Y, learning_rate, epoch, batch_size):\n",
        "    num_batches = int(X.shape[0]/batch_size)    \n",
        "    loss_mini = []\n",
        "    \n",
        "    n_x = X.shape[1]\n",
        "    n_y = len(np.unique(Y))\n",
        "    W = np.random.randn(n_y,n_x) * 0.01\n",
        "    \n",
        "    Y = to_one_hot(Y)\n",
        "    m = X.shape[1]\n",
        "    \n",
        "    for batch in range(epoch):\n",
        "        for batch_number in range(0,num_batches):\n",
        "            X_batch, Y_batch = get_batches(X, Y, batch_size, batch_number)\n",
        "            z = np.dot(W,X_batch.T)\n",
        "            a = softmax(z)\n",
        "            cost = cost_function(a,Y_batch.T)\n",
        "            loss_mini.append(cost)\n",
        "            dz = a.T - Y_batch \n",
        "            dw = (1/m)*np.dot(X_batch.T,dz)\n",
        "            W = W - (learning_rate * dw.T)\n",
        "    return W\n"
      ],
      "metadata": {
        "id": "REXH3Pt5V4Xt"
      },
      "execution_count": 63,
      "outputs": []
    },
    {
      "cell_type": "markdown",
      "source": [
        "**Result**"
      ],
      "metadata": {
        "id": "vLhu-OH_eMW_"
      }
    },
    {
      "cell_type": "code",
      "source": [
        "result = mini_batch_gd(X_train, Y_train, learning_rate=0.001, epoch= 10000, batch_size=12)"
      ],
      "metadata": {
        "id": "o4y-VUbxePJV"
      },
      "execution_count": 79,
      "outputs": []
    },
    {
      "cell_type": "markdown",
      "source": [
        "**Prediction using minibatch**"
      ],
      "metadata": {
        "id": "QqNn0IfSWMk4"
      }
    },
    {
      "cell_type": "code",
      "source": [
        "prediction = np.dot(X_train,result.T)\n",
        "prediction = np.argmax(prediction,axis=1)\n",
        "print(prediction)"
      ],
      "metadata": {
        "colab": {
          "base_uri": "https://localhost:8080/"
        },
        "id": "DTLITzYGWP8L",
        "outputId": "c2a4fd4e-a57a-4d33-a8d7-1972d4c426d8"
      },
      "execution_count": 64,
      "outputs": [
        {
          "output_type": "stream",
          "name": "stdout",
          "text": [
            "[2 0 2 2 1 2 1 1 1 0 1 1 1 0 1 0 2 0 2 1 1 0 0 2 1 1 1 0 0 1 0 1 0 0 2 0 2\n",
            " 2 0 0 1 2 1 1 2 1 0 2 2 2 1 1 1 2 2 0 2 1 0 0 0 1 0 2 2 2 1 2 1 2 2 1 0 0\n",
            " 1 2 1 2 1 0 1 0 2 1 0 2 0 2 0 1 0 0 2 0 2 2 1 1 1 2 1 2 2 0 0]\n"
          ]
        }
      ]
    },
    {
      "cell_type": "markdown",
      "source": [
        "**Testing using minibatch**"
      ],
      "metadata": {
        "id": "clRnyigYWVG0"
      }
    },
    {
      "cell_type": "code",
      "source": [
        "test = np.dot(X_test,result.T)\n",
        "test = np.argmax(test,axis=1)\n",
        "test"
      ],
      "metadata": {
        "colab": {
          "base_uri": "https://localhost:8080/"
        },
        "id": "nejLiwV9WYOb",
        "outputId": "7dd56530-6f84-476e-93ac-5aa89b0af432"
      },
      "execution_count": 65,
      "outputs": [
        {
          "output_type": "execute_result",
          "data": {
            "text/plain": [
              "array([1, 1, 2, 1, 0, 2, 2, 1, 1, 0, 2, 2, 0, 2, 0, 2, 1, 0, 0, 0, 1, 1,\n",
              "       2, 1, 0, 0, 0, 1, 0, 2, 0, 2, 2, 0, 1, 2, 0, 2, 2, 2, 1, 0, 0, 1,\n",
              "       2])"
            ]
          },
          "metadata": {},
          "execution_count": 65
        }
      ]
    },
    {
      "cell_type": "markdown",
      "source": [
        "**Accuracy table**"
      ],
      "metadata": {
        "id": "ZZYQ8XjGWcNV"
      }
    },
    {
      "cell_type": "code",
      "source": [
        "training_accuracy = accuracy_score(Y_train,prediction)\n",
        "test_accuracy = accuracy_score(Y_test,test)\n",
        "x2=training_accuracy\n",
        "y2=test_accuracy"
      ],
      "metadata": {
        "id": "IQ9W6FmzWeQD"
      },
      "execution_count": 66,
      "outputs": []
    },
    {
      "cell_type": "code",
      "source": [
        "from prettytable import PrettyTable\n",
        "acc_table= PrettyTable([\"training_accuracy using mini batch gradiant\", \"test_accuracy using mini batch gradiant\"])\n",
        "acc_table.add_row([training_accuracy,test_accuracy])\n",
        "print(acc_table)\n",
        "\n"
      ],
      "metadata": {
        "colab": {
          "base_uri": "https://localhost:8080/"
        },
        "id": "z82FtiW3WnuE",
        "outputId": "f73f8391-810c-4dea-8d61-ba830dd2ec14"
      },
      "execution_count": 67,
      "outputs": [
        {
          "output_type": "stream",
          "name": "stdout",
          "text": [
            "+---------------------------------------------+-----------------------------------------+\n",
            "| training_accuracy using mini batch gradiant | test_accuracy using mini batch gradiant |\n",
            "+---------------------------------------------+-----------------------------------------+\n",
            "|              0.9523809523809523             |            0.9333333333333333           |\n",
            "+---------------------------------------------+-----------------------------------------+\n"
          ]
        }
      ]
    },
    {
      "cell_type": "markdown",
      "source": [
        "#Stochastic Gradient Descent"
      ],
      "metadata": {
        "id": "LZOh0PKAW9vL"
      }
    },
    {
      "cell_type": "code",
      "source": [
        "def stochastic_gd(X, Y, learning_rate, epoch):\n",
        "    loss = []\n",
        "    \n",
        "    n_x = X.shape[1]\n",
        "    n_y = len(np.unique(Y))\n",
        "    W = np.random.randn(n_y,n_x)\n",
        "    \n",
        "    Y = to_one_hot(Y)\n",
        "    m = X.shape[1]\n",
        "    \n",
        "    for k in range(epoch):\n",
        "        z = np.dot(W,X.T)\n",
        "        a = softmax(z)\n",
        "        cost = cost_function(a,Y.T)\n",
        "        loss.append(cost)\n",
        "        dz = a.T - Y\n",
        "        dw = (1/m)*np.dot(X.T,dz)\n",
        "        for k in range(1,m):\n",
        "            W = W - (learning_rate * dw.T)*(X[k,:])\n",
        "    return W.T\n"
      ],
      "metadata": {
        "id": "4Sj3V02WW8Q2"
      },
      "execution_count": 68,
      "outputs": []
    },
    {
      "cell_type": "markdown",
      "source": [
        "**Result**"
      ],
      "metadata": {
        "id": "X-UFOqugXFDP"
      }
    },
    {
      "cell_type": "code",
      "source": [
        "result = stochastic_gd(X_train,Y_train,learning_rate = 0.001, epoch = 10000)\n",
        "result"
      ],
      "metadata": {
        "colab": {
          "base_uri": "https://localhost:8080/"
        },
        "id": "yxMIlZr-XHg1",
        "outputId": "88e73195-d848-49a0-cfc8-9352a717fc77"
      },
      "execution_count": 69,
      "outputs": [
        {
          "output_type": "execute_result",
          "data": {
            "text/plain": [
              "array([[ 3.89490341,  2.56512056, -3.88260091],\n",
              "       [ 4.8429203 ,  1.18187998, -3.18545411],\n",
              "       [-7.95557268, -0.20923556,  7.66324969],\n",
              "       [-0.15346818, -4.63180257,  4.17620365]])"
            ]
          },
          "metadata": {},
          "execution_count": 69
        }
      ]
    },
    {
      "cell_type": "markdown",
      "source": [
        "**Prediction using stochastic gradiant**"
      ],
      "metadata": {
        "id": "VbVQdFmBXMt2"
      }
    },
    {
      "cell_type": "code",
      "source": [
        "prediction= np.dot(X_train,result)\n",
        "prediction= np.argmax(prediction,axis=1)\n",
        "print(prediction)"
      ],
      "metadata": {
        "colab": {
          "base_uri": "https://localhost:8080/"
        },
        "id": "dVf4enBJXIHq",
        "outputId": "de75d0f1-b907-4aeb-f740-c350ba87c2a2"
      },
      "execution_count": 70,
      "outputs": [
        {
          "output_type": "stream",
          "name": "stdout",
          "text": [
            "[2 0 2 2 1 2 1 1 1 0 1 1 1 0 1 0 2 0 2 1 1 0 0 2 2 1 1 0 0 1 0 1 0 0 1 0 2\n",
            " 2 0 0 1 2 1 1 2 1 0 2 2 2 1 0 1 2 2 0 2 1 0 0 0 1 0 2 2 2 1 2 2 2 2 1 0 0\n",
            " 1 2 1 2 1 0 1 0 2 1 0 2 0 2 0 1 0 0 2 0 2 2 1 1 1 2 1 2 2 0 0]\n"
          ]
        }
      ]
    },
    {
      "cell_type": "code",
      "source": [
        ""
      ],
      "metadata": {
        "id": "IWu1jMFeXTnV"
      },
      "execution_count": 70,
      "outputs": []
    },
    {
      "cell_type": "markdown",
      "source": [
        "**Testing using stochastic gradiant**"
      ],
      "metadata": {
        "id": "ejA8KMUdXb19"
      }
    },
    {
      "cell_type": "code",
      "source": [
        "test = np.dot(X_test,result)\n",
        "test = np.argmax(test,axis=1)\n",
        "print(test)"
      ],
      "metadata": {
        "colab": {
          "base_uri": "https://localhost:8080/"
        },
        "id": "SiWpGTRPXtPK",
        "outputId": "3fbe5230-db81-4deb-8b63-0f66d66fb622"
      },
      "execution_count": 71,
      "outputs": [
        {
          "output_type": "stream",
          "name": "stdout",
          "text": [
            "[1 1 2 2 0 2 2 1 1 0 2 2 0 2 0 2 1 0 0 0 1 1 2 1 0 0 0 2 0 2 0 2 2 0 1 2 0\n",
            " 2 2 2 1 0 0 1 2]\n"
          ]
        }
      ]
    },
    {
      "cell_type": "code",
      "source": [
        ""
      ],
      "metadata": {
        "id": "jyzOM50JXtyY"
      },
      "execution_count": 71,
      "outputs": []
    },
    {
      "cell_type": "markdown",
      "source": [
        "**Accurace table**"
      ],
      "metadata": {
        "id": "Ez6PXfpTX2g0"
      }
    },
    {
      "cell_type": "code",
      "source": [
        "training_accuracy = accuracy_score(Y_train,prediction)\n",
        "test_accuracy = accuracy_score(Y_test,test)\n",
        "x3=training_accuracy\n",
        "y3=test_accuracy"
      ],
      "metadata": {
        "id": "b4BoVrSOX40O"
      },
      "execution_count": 72,
      "outputs": []
    },
    {
      "cell_type": "code",
      "source": [
        "from prettytable import PrettyTable\n",
        "acc_table= PrettyTable([\"training_accuracy using stochastic gradiant\", \"test_accuracy using stochastic gradiant\"])\n",
        "acc_table.add_row([training_accuracy,test_accuracy])\n",
        "print(acc_table)\n",
        "\n"
      ],
      "metadata": {
        "colab": {
          "base_uri": "https://localhost:8080/"
        },
        "id": "2keAdbn7X7jw",
        "outputId": "061d5d2a-de7e-4082-993b-401867ce14db"
      },
      "execution_count": 73,
      "outputs": [
        {
          "output_type": "stream",
          "name": "stdout",
          "text": [
            "+---------------------------------------------+-----------------------------------------+\n",
            "| training_accuracy using stochastic gradiant | test_accuracy using stochastic gradiant |\n",
            "+---------------------------------------------+-----------------------------------------+\n",
            "|              0.9904761904761905             |            0.9333333333333333           |\n",
            "+---------------------------------------------+-----------------------------------------+\n"
          ]
        }
      ]
    },
    {
      "cell_type": "markdown",
      "source": [
        "#Comparison"
      ],
      "metadata": {
        "id": "5mau5_WUY0w2"
      }
    },
    {
      "cell_type": "code",
      "source": [
        "from prettytable import PrettyTable\n",
        "acc_table= PrettyTable([\"#\",\"Single Layer Perceptron\", \"with mini batch\",\"with Stochastic Gradient Descent\"])\n",
        "acc_table.add_row([\"Training Accuracy(%)\",x1,x2,x3])\n",
        "acc_table.add_row([\"Testing Accuracy(%)\",y1,y2,y3])\n",
        "print(acc_table)\n",
        "\n",
        "\n"
      ],
      "metadata": {
        "colab": {
          "base_uri": "https://localhost:8080/"
        },
        "id": "o0CwtXELY25N",
        "outputId": "3fb412e5-2339-4a53-844e-b875dc63a3b3"
      },
      "execution_count": 76,
      "outputs": [
        {
          "output_type": "stream",
          "name": "stdout",
          "text": [
            "+----------------------+-------------------------+--------------------+----------------------------------+\n",
            "|          #           | Single Layer Perceptron |  with mini batch   | with Stochastic Gradient Descent |\n",
            "+----------------------+-------------------------+--------------------+----------------------------------+\n",
            "| Training Accuracy(%) |    0.9809523809523809   | 0.9523809523809523 |        0.9904761904761905        |\n",
            "| Testing Accuracy(%)  |    0.9555555555555556   | 0.9333333333333333 |        0.9333333333333333        |\n",
            "+----------------------+-------------------------+--------------------+----------------------------------+\n"
          ]
        }
      ]
    },
    {
      "cell_type": "markdown",
      "source": [
        "**Differences**\n",
        "\n",
        "In gradient descent we use all the data in one time.Thats too much computation if there is a big dataset.On the other hand we use a selected batch to calculate the parametres.SGD is not so different it pick a random sample and using that it changes its parametres.Other than that almost all calculations are the same.But gradient descent fails in terms of big datset where we use mini batch gradient descent and SDG."
      ],
      "metadata": {
        "id": "Acf3MsgIelO0"
      }
    }
  ]
}