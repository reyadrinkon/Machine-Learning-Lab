{
  "nbformat": 4,
  "nbformat_minor": 0,
  "metadata": {
    "colab": {
      "name": "LAB4_2017331034.ipynb",
      "provenance": [],
      "collapsed_sections": []
    },
    "kernelspec": {
      "name": "python3",
      "display_name": "Python 3"
    },
    "language_info": {
      "name": "python"
    }
  },
  "cells": [
    {
      "cell_type": "code",
      "execution_count": 23,
      "metadata": {
        "id": "__UjXseDuXGQ"
      },
      "outputs": [],
      "source": [
        "from sklearn.datasets import load_iris\n",
        "from sklearn import metrics\n",
        "from sklearn.neighbors import KNeighborsClassifier\n",
        "from sklearn.linear_model import LogisticRegression,Perceptron\n",
        "from sklearn.model_selection import train_test_split\n",
        "from sklearn.metrics import confusion_matrix\n",
        "from sklearn.preprocessing import StandardScaler\n",
        "from sklearn.model_selection import cross_val_score\n",
        "from sklearn import tree\n",
        "from sklearn.ensemble import RandomForestClassifier\n",
        "from sklearn.svm import SVC\n",
        "from sklearn.svm import LinearSVC\n",
        "from sklearn.pipeline import make_pipeline\n",
        "from sklearn.naive_bayes import GaussianNB\n",
        "import sklearn\n",
        "import pandas as pd\n",
        "import numpy as np\n",
        "import seaborn as sns\n",
        "import matplotlib\n",
        "import matplotlib.pyplot as plt\n",
        "from matplotlib.colors import ListedColormap\n",
        "import matplotlib.gridspec as gridspec\n",
        "from sklearn.neural_network import MLPClassifier\n",
        "from sklearn.datasets import make_classification"
      ]
    },
    {
      "cell_type": "code",
      "source": [
        "iris = load_iris()\n",
        "type(iris)\n",
        "print(iris.keys())\n",
        "type(iris.data), type(iris.target)\n",
        "iris.data.shape"
      ],
      "metadata": {
        "colab": {
          "base_uri": "https://localhost:8080/"
        },
        "id": "ntVzm1DgzjhY",
        "outputId": "bcb69389-965d-420c-9de7-f046879ab289"
      },
      "execution_count": 24,
      "outputs": [
        {
          "output_type": "stream",
          "name": "stdout",
          "text": [
            "dict_keys(['data', 'target', 'frame', 'target_names', 'DESCR', 'feature_names', 'filename', 'data_module'])\n"
          ]
        },
        {
          "output_type": "execute_result",
          "data": {
            "text/plain": [
              "(150, 4)"
            ]
          },
          "metadata": {},
          "execution_count": 24
        }
      ]
    },
    {
      "cell_type": "code",
      "source": [
        "iris.target_names"
      ],
      "metadata": {
        "colab": {
          "base_uri": "https://localhost:8080/"
        },
        "id": "BbxyR5yF0OQ4",
        "outputId": "a0b4b602-d11b-4ff5-8f6a-a8c1bfe0780d"
      },
      "execution_count": 25,
      "outputs": [
        {
          "output_type": "execute_result",
          "data": {
            "text/plain": [
              "array(['setosa', 'versicolor', 'virginica'], dtype='<U10')"
            ]
          },
          "metadata": {},
          "execution_count": 25
        }
      ]
    },
    {
      "cell_type": "code",
      "source": [
        "X = iris.data\n",
        "y = iris.target\n",
        "df = pd.DataFrame(X, columns=iris.feature_names)\n",
        "df1 = sns.load_dataset('iris')\n",
        "print(df1)"
      ],
      "metadata": {
        "colab": {
          "base_uri": "https://localhost:8080/"
        },
        "id": "QbMWeclG0UGp",
        "outputId": "cda33ffb-3ac1-4f33-f80c-7cd292ac8259"
      },
      "execution_count": 26,
      "outputs": [
        {
          "output_type": "stream",
          "name": "stdout",
          "text": [
            "     sepal_length  sepal_width  petal_length  petal_width    species\n",
            "0             5.1          3.5           1.4          0.2     setosa\n",
            "1             4.9          3.0           1.4          0.2     setosa\n",
            "2             4.7          3.2           1.3          0.2     setosa\n",
            "3             4.6          3.1           1.5          0.2     setosa\n",
            "4             5.0          3.6           1.4          0.2     setosa\n",
            "..            ...          ...           ...          ...        ...\n",
            "145           6.7          3.0           5.2          2.3  virginica\n",
            "146           6.3          2.5           5.0          1.9  virginica\n",
            "147           6.5          3.0           5.2          2.0  virginica\n",
            "148           6.2          3.4           5.4          2.3  virginica\n",
            "149           5.9          3.0           5.1          1.8  virginica\n",
            "\n",
            "[150 rows x 5 columns]\n"
          ]
        }
      ]
    },
    {
      "cell_type": "code",
      "source": [
        "sns.lmplot(x='petal_length', y='petal_width', data=df1, hue='species', fit_reg=False)"
      ],
      "metadata": {
        "colab": {
          "base_uri": "https://localhost:8080/",
          "height": 386
        },
        "id": "TrNMg4xJ0p7T",
        "outputId": "c2f1aecd-6603-4ad5-bcea-bae5b3b0d6c8"
      },
      "execution_count": 27,
      "outputs": [
        {
          "output_type": "execute_result",
          "data": {
            "text/plain": [
              "<seaborn.axisgrid.FacetGrid at 0x7f68685bfbd0>"
            ]
          },
          "metadata": {},
          "execution_count": 27
        },
        {
          "output_type": "display_data",
          "data": {
            "text/plain": [
              "<Figure size 444.75x360 with 1 Axes>"
            ],
            "image/png": "[encoded data removed]"
          },
          "metadata": {
            "needs_background": "light"
          }
        }
      ]
    },
    {
      "cell_type": "markdown",
      "source": [
        "#2 Classifiying Data"
      ],
      "metadata": {
        "id": "m4MfLNyoufkE"
      }
    },
    {
      "cell_type": "code",
      "source": [
        "x = iris.data[:, -2:]\n",
        "y = iris.target\n",
        "x_train,x_test,y_train,y_test=train_test_split(x,y,test_size=0.2,random_state=123)\n",
        "x.shape\n"
      ],
      "metadata": {
        "colab": {
          "base_uri": "https://localhost:8080/"
        },
        "id": "CLSdgqXN1XiG",
        "outputId": "ee6d5581-4e3b-4c75-d899-72b693cf6158"
      },
      "execution_count": 28,
      "outputs": [
        {
          "output_type": "execute_result",
          "data": {
            "text/plain": [
              "(150, 2)"
            ]
          },
          "metadata": {},
          "execution_count": 28
        }
      ]
    },
    {
      "cell_type": "markdown",
      "source": [
        "**2.1 K-Nearest Neighbor Classifier (K)**"
      ],
      "metadata": {
        "id": "FBHra6lLul8G"
      }
    },
    {
      "cell_type": "code",
      "source": [
        "knn = KNeighborsClassifier(n_neighbors=6)\n",
        "knn.fit(x_train, y_train)\n",
        "prediction = knn.predict(x_test)\n",
        "print(prediction)\n",
        "print(y_test)\n",
        "print(knn.score(x_test, y_test))\n",
        "print(confusion_matrix(y_test, prediction))"
      ],
      "metadata": {
        "colab": {
          "base_uri": "https://localhost:8080/"
        },
        "id": "CoY2R2nj3gZN",
        "outputId": "2c62f0ee-a910-4656-b1fe-3985a814728d"
      },
      "execution_count": 29,
      "outputs": [
        {
          "output_type": "stream",
          "name": "stdout",
          "text": [
            "[1 2 2 1 0 1 1 0 0 1 2 0 1 2 2 2 0 0 1 0 0 1 0 2 0 0 0 2 2 0]\n",
            "[1 2 2 1 0 2 1 0 0 1 2 0 1 2 2 2 0 0 1 0 0 2 0 2 0 0 0 2 2 0]\n",
            "0.9333333333333333\n",
            "[[13  0  0]\n",
            " [ 0  6  0]\n",
            " [ 0  2  9]]\n"
          ]
        }
      ]
    },
    {
      "cell_type": "markdown",
      "source": [
        "**2.2 Single and Multilayer Neural Network**"
      ],
      "metadata": {
        "id": "BkH5kt8nuwY8"
      }
    },
    {
      "cell_type": "code",
      "source": [
        "mlp=MLPClassifier(hidden_layer_sizes=(100,), activation='relu', solver='adam', alpha=0.0001, max_iter=800)\n",
        "mlp.fit(x_train,y_train)\n",
        "pred=mlp.predict(x_test)\n",
        "mlp.score(x_test,y_test)\n",
        "print(pred)\n",
        "print(y_test)\n",
        "print(mlp.score(x_test, y_test))\n",
        "print(confusion_matrix(y_test, pred))\n",
        "\n"
      ],
      "metadata": {
        "colab": {
          "base_uri": "https://localhost:8080/"
        },
        "id": "uHwECuih4Aop",
        "outputId": "72c8c65e-9593-49ad-84f7-46de74cf951c"
      },
      "execution_count": 30,
      "outputs": [
        {
          "output_type": "stream",
          "name": "stdout",
          "text": [
            "[1 2 2 1 0 2 1 0 0 1 2 0 1 2 2 2 0 0 1 0 0 1 0 2 0 0 0 2 2 0]\n",
            "[1 2 2 1 0 2 1 0 0 1 2 0 1 2 2 2 0 0 1 0 0 2 0 2 0 0 0 2 2 0]\n",
            "0.9666666666666667\n",
            "[[13  0  0]\n",
            " [ 0  6  0]\n",
            " [ 0  1 10]]\n"
          ]
        }
      ]
    },
    {
      "cell_type": "markdown",
      "source": [
        "**2.3Support Vector Machine (SVM)**"
      ],
      "metadata": {
        "id": "qwvlE9_xvBmd"
      }
    },
    {
      "cell_type": "code",
      "source": [
        "from sklearn import svm\n",
        "clf = svm.SVC()\n",
        "clf.fit(x_train, y_train)\n",
        "pred_svm=clf.predict(x_test)\n",
        "pred_svm1= np.round_(pred_svm, decimals=0)\n",
        "print(pred_svm1)\n",
        "print(y_test)\n",
        "print(clf.score(x_test,y_test))\n",
        "confusion_matrix(y_test, pred_svm)"
      ],
      "metadata": {
        "colab": {
          "base_uri": "https://localhost:8080/"
        },
        "id": "elYP4Rwo4uFG",
        "outputId": "996f768b-3819-41e5-f6dc-99e1f16152fa"
      },
      "execution_count": 31,
      "outputs": [
        {
          "output_type": "stream",
          "name": "stdout",
          "text": [
            "[1 2 2 1 0 1 1 0 0 1 2 0 1 2 2 2 0 0 1 0 0 1 0 1 0 0 0 2 2 0]\n",
            "[1 2 2 1 0 2 1 0 0 1 2 0 1 2 2 2 0 0 1 0 0 2 0 2 0 0 0 2 2 0]\n",
            "0.9\n"
          ]
        },
        {
          "output_type": "execute_result",
          "data": {
            "text/plain": [
              "array([[13,  0,  0],\n",
              "       [ 0,  6,  0],\n",
              "       [ 0,  3,  8]])"
            ]
          },
          "metadata": {},
          "execution_count": 31
        }
      ]
    },
    {
      "cell_type": "markdown",
      "source": [
        "**2.6Logistic Regression**"
      ],
      "metadata": {
        "id": "QyD5znTUvKfL"
      }
    },
    {
      "cell_type": "code",
      "source": [
        "from sklearn.linear_model import LogisticRegression\n",
        "clf2 = LogisticRegression()\n",
        "clf2.fit(x_train, y_train)\n",
        "pred_logis_reg=clf2.predict(x_test)\n",
        "print(pred_logis_reg)\n",
        "print(y_test)\n",
        "print(clf2.score(x_test, y_test))\n",
        "print(confusion_matrix(y_test, pred_logis_reg))"
      ],
      "metadata": {
        "colab": {
          "base_uri": "https://localhost:8080/"
        },
        "id": "w7uCgV-75fxi",
        "outputId": "3c8b0de4-effe-423d-f536-2353d71084e1"
      },
      "execution_count": 32,
      "outputs": [
        {
          "output_type": "stream",
          "name": "stdout",
          "text": [
            "[1 2 2 1 0 1 1 0 0 1 2 0 1 2 2 2 0 0 1 0 0 1 0 2 0 0 0 2 2 0]\n",
            "[1 2 2 1 0 2 1 0 0 1 2 0 1 2 2 2 0 0 1 0 0 2 0 2 0 0 0 2 2 0]\n",
            "0.9333333333333333\n",
            "[[13  0  0]\n",
            " [ 0  6  0]\n",
            " [ 0  2  9]]\n"
          ]
        }
      ]
    },
    {
      "cell_type": "markdown",
      "source": [
        "**2.5 Decision Tree and Random Forests**"
      ],
      "metadata": {
        "id": "AKokEUpOv6cR"
      }
    },
    {
      "cell_type": "code",
      "source": [
        "from sklearn import tree\n",
        "clf3 = tree.DecisionTreeClassifier()\n",
        "clf3 = clf3.fit(x_train, y_train)\n",
        "pred_decision_tree = clf3.predict(x_test)\n",
        "print(pred_decision_tree)\n",
        "print(y_test)\n",
        "print(clf3.score(x_test, y_test))\n",
        "print(confusion_matrix(y_test, pred_decision_tree))"
      ],
      "metadata": {
        "colab": {
          "base_uri": "https://localhost:8080/"
        },
        "id": "4C-2PB7-6MZm",
        "outputId": "4aa3be33-b0c7-494d-be2a-555b5647a1d8"
      },
      "execution_count": 33,
      "outputs": [
        {
          "output_type": "stream",
          "name": "stdout",
          "text": [
            "[1 2 2 1 0 1 1 0 0 1 2 0 1 2 2 2 0 0 1 0 0 1 0 2 0 0 0 2 2 0]\n",
            "[1 2 2 1 0 2 1 0 0 1 2 0 1 2 2 2 0 0 1 0 0 2 0 2 0 0 0 2 2 0]\n",
            "0.9333333333333333\n",
            "[[13  0  0]\n",
            " [ 0  6  0]\n",
            " [ 0  2  9]]\n"
          ]
        }
      ]
    },
    {
      "cell_type": "code",
      "source": [
        "from sklearn.ensemble import RandomForestClassifier\n",
        "clf5 = RandomForestClassifier(n_estimators = 140)\n",
        "clf5.fit(x_train, y_train)\n",
        "pred_random_forest =clf5.predict(x_test)\n",
        "print(pred_random_forest)\n",
        "print(y_test)\n",
        "print(clf5.score(x_test, y_test))\n",
        "print(confusion_matrix(y_test, pred_random_forest))"
      ],
      "metadata": {
        "colab": {
          "base_uri": "https://localhost:8080/"
        },
        "id": "0FlV4zZT-7ZR",
        "outputId": "05121ae4-7fe4-4eb2-ddb1-d1558e33ff5c"
      },
      "execution_count": 34,
      "outputs": [
        {
          "output_type": "stream",
          "name": "stdout",
          "text": [
            "[1 2 2 1 0 2 1 0 0 1 2 0 1 2 2 2 0 0 1 0 0 2 0 2 0 0 0 2 2 0]\n",
            "[1 2 2 1 0 2 1 0 0 1 2 0 1 2 2 2 0 0 1 0 0 2 0 2 0 0 0 2 2 0]\n",
            "1.0\n",
            "[[13  0  0]\n",
            " [ 0  6  0]\n",
            " [ 0  0 11]]\n"
          ]
        }
      ]
    },
    {
      "cell_type": "markdown",
      "source": [
        "**2.6Naïve Bayes Classifier**"
      ],
      "metadata": {
        "id": "Okhz9TcWwMdP"
      }
    },
    {
      "cell_type": "code",
      "source": [
        "from sklearn.naive_bayes import GaussianNB\n",
        "clf6 = GaussianNB()\n",
        "clf6.fit(x_train, y_train)\n",
        "pred_gaussian_nb = clf6.predict(x_test)\n",
        "print(pred_gaussian_nb)\n",
        "print(y_test)\n",
        "print(clf6.score(x_test, y_test))\n",
        "print(confusion_matrix(y_test, pred_gaussian_nb))"
      ],
      "metadata": {
        "colab": {
          "base_uri": "https://localhost:8080/"
        },
        "id": "6AhJslSw_GTE",
        "outputId": "22bd8f66-789f-4eb1-f71c-db4b83b4605b"
      },
      "execution_count": 35,
      "outputs": [
        {
          "output_type": "stream",
          "name": "stdout",
          "text": [
            "[1 2 2 1 0 2 1 0 0 1 2 0 1 2 2 2 0 0 1 0 0 1 0 2 0 0 0 2 2 0]\n",
            "[1 2 2 1 0 2 1 0 0 1 2 0 1 2 2 2 0 0 1 0 0 2 0 2 0 0 0 2 2 0]\n",
            "0.9666666666666667\n",
            "[[13  0  0]\n",
            " [ 0  6  0]\n",
            " [ 0  1 10]]\n"
          ]
        }
      ]
    },
    {
      "cell_type": "markdown",
      "source": [
        "# **3. Observe the decision boundary**"
      ],
      "metadata": {
        "id": "TH9K84zgwWzy"
      }
    },
    {
      "cell_type": "markdown",
      "source": [
        "**3(a)Generate a test data set with all the points in a 2D grid:**"
      ],
      "metadata": {
        "id": "seIK_LiswntE"
      }
    },
    {
      "cell_type": "code",
      "source": [
        "x = np.linspace(0, 7, 70)\n",
        "y = np.linspace(0, 3, 30)\n",
        "xx, yy = np.meshgrid(x, y)\n",
        "length, width = xx.shape\n",
        "n_test = length*width\n",
        "f1 = xx.reshape(n_test, 1)\n",
        "f2 = yy.reshape(n_test, 1)\n",
        "test_data = np.concatenate([f1, f2],axis = 1)"
      ],
      "metadata": {
        "id": "NVYaaBa2ATBI"
      },
      "execution_count": 36,
      "outputs": []
    },
    {
      "cell_type": "markdown",
      "source": [
        "**3(b)Predict the class of each data point using a classifier**"
      ],
      "metadata": {
        "id": "ICXJWw7hw7nq"
      }
    },
    {
      "cell_type": "markdown",
      "source": [
        "**Predict on Logistic Regression**"
      ],
      "metadata": {
        "id": "qtSpC5cWw7-t"
      }
    },
    {
      "cell_type": "code",
      "source": [
        "prd = clf2.predict(test_data)\n",
        "prd=  np.expand_dims(prd, axis=0)\n",
        "arrr=np.concatenate((test_data,prd.T), axis =1 )\n",
        "df5 = pd.DataFrame(arrr)\n",
        "df5.columns = ['sepal_length', 'sepal_width','species']\n",
        "print(df5)"
      ],
      "metadata": {
        "colab": {
          "base_uri": "https://localhost:8080/"
        },
        "id": "KXe0aFvxAqJG",
        "outputId": "490d4707-e0a1-401b-c4ea-002dcd116f05"
      },
      "execution_count": 37,
      "outputs": [
        {
          "output_type": "stream",
          "name": "stdout",
          "text": [
            "      sepal_length  sepal_width  species\n",
            "0         0.000000          0.0      0.0\n",
            "1         0.101449          0.0      0.0\n",
            "2         0.202899          0.0      0.0\n",
            "3         0.304348          0.0      0.0\n",
            "4         0.405797          0.0      0.0\n",
            "...            ...          ...      ...\n",
            "2095      6.594203          3.0      2.0\n",
            "2096      6.695652          3.0      2.0\n",
            "2097      6.797101          3.0      2.0\n",
            "2098      6.898551          3.0      2.0\n",
            "2099      7.000000          3.0      2.0\n",
            "\n",
            "[2100 rows x 3 columns]\n"
          ]
        }
      ]
    },
    {
      "cell_type": "markdown",
      "source": [
        "**Plot and Decison Boundary on Logistic Regression**"
      ],
      "metadata": {
        "id": "G8xQR4YrxPCM"
      }
    },
    {
      "cell_type": "markdown",
      "source": [
        ""
      ],
      "metadata": {
        "id": "VTcrXR0zxPSo"
      }
    },
    {
      "cell_type": "code",
      "source": [
        "g= sns.lmplot(x='sepal_length', y='sepal_width', data=df5, hue='species',fit_reg=False,facet_kws={'legend_out': True},height=5, aspect=1)\n",
        "new_labels = [\"setosa\",\"versicolor\",\"virginica\"]\n",
        "new_title = 'species'\n",
        "g._legend.set_title(new_title)\n",
        "#plt.legend(labels=[\"setosa\",\"versicolor\",\"virginica\"])\n",
        "for t, l in zip(g._legend.texts, new_labels):\n",
        "    t.set_text(l)\n",
        "sns.move_legend(g, \"upper left\", bbox_to_anchor=(.9, .9), title='Species')"
      ],
      "metadata": {
        "colab": {
          "base_uri": "https://localhost:8080/",
          "height": 369
        },
        "id": "1wPkA7qXBBzG",
        "outputId": "6cd31816-a829-478c-b747-fbf673f9c9de"
      },
      "execution_count": 38,
      "outputs": [
        {
          "output_type": "display_data",
          "data": {
            "text/plain": [
              "<Figure size 411.875x360 with 1 Axes>"
            ],
            "image/png": "[encoded data removed]"
          },
          "metadata": {
            "needs_background": "light"
          }
        }
      ]
    },
    {
      "cell_type": "code",
      "source": [
        ""
      ],
      "metadata": {
        "id": "NPL86uUYxW1w"
      },
      "execution_count": 38,
      "outputs": []
    },
    {
      "cell_type": "markdown",
      "source": [
        "# **4.Tune the hyper-parameters for each classifiers**"
      ],
      "metadata": {
        "id": "wxVHw-RFxXdh"
      }
    },
    {
      "cell_type": "markdown",
      "source": [
        "**4.1. For KNN**"
      ],
      "metadata": {
        "id": "IUUFYRPdxdQd"
      }
    },
    {
      "cell_type": "code",
      "source": [
        "from sklearn.model_selection import RandomizedSearchCV\n",
        "from sklearn.model_selection import GridSearchCV\n",
        "from subprocess import check_output\n",
        "from sklearn import preprocessing\n",
        "weight_functions = [\"uniform\", \"distance\"]\n",
        "p_values = [1, 2]\n",
        "n_range = list(range(1, 51))\n",
        "\n",
        "param_grid = {\"n_neighbors\": n_range,\n",
        "              \"weights\": weight_functions,\n",
        "              \"p\": p_values\n",
        "              }         #setting grid of parameters\n",
        "\n",
        "grid = GridSearchCV(estimator = KNeighborsClassifier(), \n",
        "                    param_grid = param_grid, \n",
        "                    cv = 5, \n",
        "                    scoring = 'accuracy', \n",
        "                    refit = True)   #setting grid with estimator\n",
        "\n",
        "knn_model = make_pipeline(preprocessing.StandardScaler(), grid)     #creating preprocessing\n",
        "knn_model.fit(x_train, y_train)       #fitting data\n",
        "\n",
        "print(\"The optimal classification Accuracy(Tuned model) is: %.4f\" %grid.best_score_)\n",
        "print(\"The best tuned parameters are reported below:\")\n",
        "print(grid.best_params_)"
      ],
      "metadata": {
        "colab": {
          "base_uri": "https://localhost:8080/"
        },
        "id": "-Kmtf3mBB0cY",
        "outputId": "222166f0-5c32-4adb-c2a9-8c3bd896c332"
      },
      "execution_count": 39,
      "outputs": [
        {
          "output_type": "stream",
          "name": "stdout",
          "text": [
            "The optimal classification Accuracy(Tuned model) is: 0.9750\n",
            "The best tuned parameters are reported below:\n",
            "{'n_neighbors': 34, 'p': 2, 'weights': 'uniform'}\n"
          ]
        }
      ]
    },
    {
      "cell_type": "markdown",
      "source": [
        "**4.2 Single and Multilayer Neural Network**"
      ],
      "metadata": {
        "id": "20UIrFt7xix-"
      }
    },
    {
      "cell_type": "code",
      "source": [
        "\n",
        "activation = [\"tanh\", \"relu\",\"logistic\"]\n",
        "solver = [\"sgd\", \"adam\",\"lbfgs\"]\n",
        "hidden_layer_sizes = [(50,50,50), (50,100,50), (100,)]\n",
        "alpha =[0.01,0.0001]\n",
        "learning_rate=[\"constant\", \"adaptive\",\"invscaling\"]\n",
        "\n",
        "param_grid = {\"activation\" :activation,\n",
        "              \"solver\":solver,\n",
        "              \"hidden_layer_sizes\": hidden_layer_sizes,\n",
        "              \"alpha\":alpha,\n",
        "              \"learning_rate\":learning_rate\n",
        "              }         #setting grid of parameters\n",
        "\n",
        "grid = GridSearchCV(estimator = MLPClassifier(max_iter=100), \n",
        "                    param_grid = param_grid, \n",
        "                    cv = 3, \n",
        "                    n_jobs=-1,\n",
        "                    scoring = 'accuracy', \n",
        "                    refit = True)   #setting grid with estimator\n",
        "import warnings\n",
        "warnings.filterwarnings(\"ignore\")\n",
        "mlp_model = make_pipeline(preprocessing.StandardScaler(), grid)     #creating preprocessing\n",
        "mlp_model.fit(x_train, y_train)       #fitting data\n",
        "\n",
        "print(\"The optimal classification Accuracy(Tuned model) is: %.4f\" %grid.best_score_)\n",
        "print(\"The best tuned parameters are reported below:\")\n",
        "print(grid.best_params_)"
      ],
      "metadata": {
        "colab": {
          "base_uri": "https://localhost:8080/"
        },
        "id": "IAOTAP7cCfCY",
        "outputId": "56d43d00-8f15-4dd2-f440-4cefb1aa05e5"
      },
      "execution_count": 40,
      "outputs": [
        {
          "output_type": "stream",
          "name": "stdout",
          "text": [
            "The optimal classification Accuracy(Tuned model) is: 0.9667\n",
            "The best tuned parameters are reported below:\n",
            "{'activation': 'tanh', 'alpha': 0.01, 'hidden_layer_sizes': (50, 100, 50), 'learning_rate': 'adaptive', 'solver': 'sgd'}\n"
          ]
        }
      ]
    },
    {
      "cell_type": "markdown",
      "source": [
        "**4.4 Logistic regression**"
      ],
      "metadata": {
        "id": "DHEH1lY1xprO"
      }
    },
    {
      "cell_type": "code",
      "source": [
        "penalty = [\"l1\", \"l2\", \"elasricent\", \"none\"]\n",
        "solver = [\"newton-cg\", \"lbfgs\", \"liblinear\", \"sag\", \"saga\"]\n",
        "max_iter =[100,200,400]\n",
        "multi_class=[\"auto\", \"ovr\", \"multinomial\"]\n",
        "param_grid = {\n",
        "              \"solver\":solver,\n",
        "              \"penalty\":penalty,\n",
        "              \"multi_class\":multi_class,\n",
        "              \"max_iter\":max_iter\n",
        "              }         #setting grid of parameters\n",
        "\n",
        "grid = GridSearchCV(estimator = LogisticRegression(), \n",
        "                    param_grid = param_grid, \n",
        "                    cv = 3, \n",
        "                    scoring = 'accuracy', \n",
        "                    refit = True)   #setting grid with estimator\n",
        "\n",
        "regr_model = make_pipeline(preprocessing.StandardScaler(), grid)     #creating preprocessing\n",
        "regr_model.fit(x_train, y_train)       #fitting data\n",
        "\n",
        "print(\"The optimal classification Accuracy(Tuned model) is: %.4f\" %grid.best_score_)\n",
        "print(\"The best tuned parameters are reported below:\")\n",
        "print(grid.best_params_)"
      ],
      "metadata": {
        "colab": {
          "base_uri": "https://localhost:8080/"
        },
        "id": "5vtaozJsC1Uw",
        "outputId": "fd416dfc-b47a-45d7-b405-28859ac6507b"
      },
      "execution_count": 41,
      "outputs": [
        {
          "output_type": "stream",
          "name": "stdout",
          "text": [
            "The optimal classification Accuracy(Tuned model) is: 0.9583\n",
            "The best tuned parameters are reported below:\n",
            "{'max_iter': 100, 'multi_class': 'auto', 'penalty': 'l2', 'solver': 'newton-cg'}\n"
          ]
        }
      ]
    },
    {
      "cell_type": "markdown",
      "source": [
        "**4.5 Decision Tree**\n"
      ],
      "metadata": {
        "id": "fHBWgcvqxvYu"
      }
    },
    {
      "cell_type": "code",
      "source": [
        "\n",
        "criteria = [\"gini\", \"entropy\"]      #criteria to be tested\n",
        "min_sample_split_range = [2,10, 20] #min sample split to be tested\n",
        "max_depth_range = [None, 2, 5, 10]  #max depth to be tested\n",
        "min_samples_leaf_range = [1, 5, 10] #min samples in the leaf to be tested\n",
        "min_leaf_nodes_range = [None, 5, 10, 20]    #min leaf nodes to be tested\n",
        "param_grid = {\"criterion\": criteria,\n",
        "              \"min_samples_split\": min_sample_split_range,\n",
        "              \"max_depth\": max_depth_range,\n",
        "              \"min_samples_leaf\": min_samples_leaf_range,\n",
        "              \"max_leaf_nodes\": min_leaf_nodes_range\n",
        "                }\n",
        "grid = GridSearchCV(estimator=tree.DecisionTreeClassifier(), \n",
        "                    param_grid=param_grid, \n",
        "                    cv = 5, \n",
        "                    scoring='accuracy', \n",
        "                    refit=True)  #setting grid with estimat\n",
        "tree_model = make_pipeline(preprocessing.StandardScaler(), grid)    #creating preprocessing\n",
        "tree_model.fit(x_train,y_train)      #fitting data\n",
        "\n",
        "print(\"The optimal classification Accuracy(Tuned model) is: %.4f\" %grid.best_score_)\n",
        "print(grid.best_params_)"
      ],
      "metadata": {
        "colab": {
          "base_uri": "https://localhost:8080/"
        },
        "id": "xvw31Dd2DATb",
        "outputId": "e4a1c47e-bed3-4c86-dc20-a77edce041b0"
      },
      "execution_count": 42,
      "outputs": [
        {
          "output_type": "stream",
          "name": "stdout",
          "text": [
            "The optimal classification Accuracy(Tuned model) is: 0.9250\n",
            "{'criterion': 'gini', 'max_depth': 5, 'max_leaf_nodes': None, 'min_samples_leaf': 1, 'min_samples_split': 2}\n"
          ]
        }
      ]
    },
    {
      "cell_type": "markdown",
      "source": [
        "\n",
        "**4.6 Random Forest**"
      ],
      "metadata": {
        "id": "gpV5ho6syOly"
      }
    },
    {
      "cell_type": "code",
      "source": [
        "criteria = [\"gini\", \"entropy\"]      #criteria to be tested\n",
        "min_sample_split_range = [2,10, 20] #min sample split to be tested\n",
        "max_depth_range = [None, 2, 5, 10]  #max depth to be tested\n",
        "min_samples_leaf_range = [1, 5, 10] #min samples in the leaf to be tested\n",
        "min_leaf_nodes_range = [None, 5, 10, 20]    #min leaf nodes to be tested\n",
        "param_grid = {\"criterion\": criteria,\n",
        "              \"min_samples_split\": min_sample_split_range,\n",
        "              \"max_depth\": max_depth_range,\n",
        "              \"min_samples_leaf\": min_samples_leaf_range,\n",
        "              \"max_leaf_nodes\": min_leaf_nodes_range\n",
        "                }\n",
        "grid = GridSearchCV(estimator=RandomForestClassifier(n_estimators = 140), \n",
        "                    param_grid=param_grid, \n",
        "                    cv = 5, \n",
        "                    scoring='accuracy', \n",
        "                    refit=True)  #setting grid with estimat\n",
        "random_forest_model = make_pipeline(preprocessing.StandardScaler(), grid)    #creating preprocessing\n",
        "random_forest_model.fit(x_train,y_train)      #fitting data\n",
        "\n",
        "print(\"The optimal classification Accuracy(Tuned model) is: %.4f\" %grid.best_score_)\n",
        "print(\"The best tuned parameters are reported below:\")\n",
        "print(grid.best_params_)"
      ],
      "metadata": {
        "colab": {
          "base_uri": "https://localhost:8080/"
        },
        "id": "UIg3PXCkyNFW",
        "outputId": "f022803c-e9f9-4096-9758-e3c19204042a"
      },
      "execution_count": 43,
      "outputs": [
        {
          "output_type": "stream",
          "name": "stdout",
          "text": [
            "The optimal classification Accuracy(Tuned model) is: 0.9500\n",
            "The best tuned parameters are reported below:\n",
            "{'criterion': 'gini', 'max_depth': None, 'max_leaf_nodes': 20, 'min_samples_leaf': 10, 'min_samples_split': 10}\n"
          ]
        }
      ]
    },
    {
      "cell_type": "markdown",
      "source": [
        "# **5. Perform dimension reduction on Iris dataset using PCA**"
      ],
      "metadata": {
        "id": "XqpoW06uyWGv"
      }
    },
    {
      "cell_type": "code",
      "source": [
        "from sklearn.preprocessing import StandardScaler\n",
        "features = df1[['sepal_length', 'sepal_width', 'petal_length', 'petal_width']]\n",
        "scaled_features = StandardScaler().fit_transform(features)\n"
      ],
      "metadata": {
        "id": "Q4ceL4UdEDzo"
      },
      "execution_count": 44,
      "outputs": []
    },
    {
      "cell_type": "code",
      "source": [
        "from sklearn.decomposition import PCA\n",
        "pca = PCA(n_components=2)\n",
        "principalComponents = pca.fit_transform(scaled_features)\n",
        "principalDf_2_pca = pd.DataFrame(data = principalComponents\n",
        "             , columns = ['principal_component_1', 'principal_component_2'])\n",
        "finalDf_2_pca = pd.concat([principalDf_2_pca, df1[['species']]], axis = 1)\n",
        "finalDf_2_pca"
      ],
      "metadata": {
        "colab": {
          "base_uri": "https://localhost:8080/",
          "height": 424
        },
        "id": "Et1zCo8PELdE",
        "outputId": "ca822254-017a-4936-f41c-854d7b0422e4"
      },
      "execution_count": 45,
      "outputs": [
        {
          "output_type": "execute_result",
          "data": {
            "text/plain": [
              "     principal_component_1  principal_component_2    species\n",
              "0                -2.264703               0.480027     setosa\n",
              "1                -2.080961              -0.674134     setosa\n",
              "2                -2.364229              -0.341908     setosa\n",
              "3                -2.299384              -0.597395     setosa\n",
              "4                -2.389842               0.646835     setosa\n",
              "..                     ...                    ...        ...\n",
              "145               1.870503               0.386966  virginica\n",
              "146               1.564580              -0.896687  virginica\n",
              "147               1.521170               0.269069  virginica\n",
              "148               1.372788               1.011254  virginica\n",
              "149               0.960656              -0.024332  virginica\n",
              "\n",
              "[150 rows x 3 columns]"
            ],
            "text/html": [
              "\n",
              "  <div id=\"df-4667016a-2d29-46ba-8bdc-6e7c951396ee\">\n",
              "    <div class=\"colab-df-container\">\n",
              "      <div>\n",
              "<style scoped>\n",
              "    .dataframe tbody tr th:only-of-type {\n",
              "        vertical-align: middle;\n",
              "    }\n",
              "\n",
              "    .dataframe tbody tr th {\n",
              "        vertical-align: top;\n",
              "    }\n",
              "\n",
              "    .dataframe thead th {\n",
              "        text-align: right;\n",
              "    }\n",
              "</style>\n",
              "<table border=\"1\" class=\"dataframe\">\n",
              "  <thead>\n",
              "    <tr style=\"text-align: right;\">\n",
              "      <th></th>\n",
              "      <th>principal_component_1</th>\n",
              "      <th>principal_component_2</th>\n",
              "      <th>species</th>\n",
              "    </tr>\n",
              "  </thead>\n",
              "  <tbody>\n",
              "    <tr>\n",
              "      <th>0</th>\n",
              "      <td>-2.264703</td>\n",
              "      <td>0.480027</td>\n",
              "      <td>setosa</td>\n",
              "    </tr>\n",
              "    <tr>\n",
              "      <th>1</th>\n",
              "      <td>-2.080961</td>\n",
              "      <td>-0.674134</td>\n",
              "      <td>setosa</td>\n",
              "    </tr>\n",
              "    <tr>\n",
              "      <th>2</th>\n",
              "      <td>-2.364229</td>\n",
              "      <td>-0.341908</td>\n",
              "      <td>setosa</td>\n",
              "    </tr>\n",
              "    <tr>\n",
              "      <th>3</th>\n",
              "      <td>-2.299384</td>\n",
              "      <td>-0.597395</td>\n",
              "      <td>setosa</td>\n",
              "    </tr>\n",
              "    <tr>\n",
              "      <th>4</th>\n",
              "      <td>-2.389842</td>\n",
              "      <td>0.646835</td>\n",
              "      <td>setosa</td>\n",
              "    </tr>\n",
              "    <tr>\n",
              "      <th>...</th>\n",
              "      <td>...</td>\n",
              "      <td>...</td>\n",
              "      <td>...</td>\n",
              "    </tr>\n",
              "    <tr>\n",
              "      <th>145</th>\n",
              "      <td>1.870503</td>\n",
              "      <td>0.386966</td>\n",
              "      <td>virginica</td>\n",
              "    </tr>\n",
              "    <tr>\n",
              "      <th>146</th>\n",
              "      <td>1.564580</td>\n",
              "      <td>-0.896687</td>\n",
              "      <td>virginica</td>\n",
              "    </tr>\n",
              "    <tr>\n",
              "      <th>147</th>\n",
              "      <td>1.521170</td>\n",
              "      <td>0.269069</td>\n",
              "      <td>virginica</td>\n",
              "    </tr>\n",
              "    <tr>\n",
              "      <th>148</th>\n",
              "      <td>1.372788</td>\n",
              "      <td>1.011254</td>\n",
              "      <td>virginica</td>\n",
              "    </tr>\n",
              "    <tr>\n",
              "      <th>149</th>\n",
              "      <td>0.960656</td>\n",
              "      <td>-0.024332</td>\n",
              "      <td>virginica</td>\n",
              "    </tr>\n",
              "  </tbody>\n",
              "</table>\n",
              "<p>150 rows × 3 columns</p>\n",
              "</div>\n",
              "      <button class=\"colab-df-convert\" onclick=\"convertToInteractive('df-4667016a-2d29-46ba-8bdc-6e7c951396ee')\"\n",
              "              title=\"Convert this dataframe to an interactive table.\"\n",
              "              style=\"display:none;\">\n",
              "        \n",
              "  <svg xmlns=\"http://www.w3.org/2000/svg\" height=\"24px\"viewBox=\"0 0 24 24\"\n",
              "       width=\"24px\">\n",
              "    <path d=\"M0 0h24v24H0V0z\" fill=\"none\"/>\n",
              "    <path d=\"M18.56 5.44l.94 2.06.94-2.06 2.06-.94-2.06-.94-.94-2.06-.94 2.06-2.06.94zm-11 1L8.5 8.5l.94-2.06 2.06-.94-2.06-.94L8.5 2.5l-.94 2.06-2.06.94zm10 10l.94 2.06.94-2.06 2.06-.94-2.06-.94-.94-2.06-.94 2.06-2.06.94z\"/><path d=\"M17.41 7.96l-1.37-1.37c-.4-.4-.92-.59-1.43-.59-.52 0-1.04.2-1.43.59L10.3 9.45l-7.72 7.72c-.78.78-.78 2.05 0 2.83L4 21.41c.39.39.9.59 1.41.59.51 0 1.02-.2 1.41-.59l7.78-7.78 2.81-2.81c.8-.78.8-2.07 0-2.86zM5.41 20L4 18.59l7.72-7.72 1.47 1.35L5.41 20z\"/>\n",
              "  </svg>\n",
              "      </button>\n",
              "      \n",
              "  <style>\n",
              "    .colab-df-container {\n",
              "      display:flex;\n",
              "      flex-wrap:wrap;\n",
              "      gap: 12px;\n",
              "    }\n",
              "\n",
              "    .colab-df-convert {\n",
              "      background-color: #E8F0FE;\n",
              "      border: none;\n",
              "      border-radius: 50%;\n",
              "      cursor: pointer;\n",
              "      display: none;\n",
              "      fill: #1967D2;\n",
              "      height: 32px;\n",
              "      padding: 0 0 0 0;\n",
              "      width: 32px;\n",
              "    }\n",
              "\n",
              "    .colab-df-convert:hover {\n",
              "      background-color: #E2EBFA;\n",
              "      box-shadow: 0px 1px 2px rgba(60, 64, 67, 0.3), 0px 1px 3px 1px rgba(60, 64, 67, 0.15);\n",
              "      fill: #174EA6;\n",
              "    }\n",
              "\n",
              "    [theme=dark] .colab-df-convert {\n",
              "      background-color: #3B4455;\n",
              "      fill: #D2E3FC;\n",
              "    }\n",
              "\n",
              "    [theme=dark] .colab-df-convert:hover {\n",
              "      background-color: #434B5C;\n",
              "      box-shadow: 0px 1px 3px 1px rgba(0, 0, 0, 0.15);\n",
              "      filter: drop-shadow(0px 1px 2px rgba(0, 0, 0, 0.3));\n",
              "      fill: #FFFFFF;\n",
              "    }\n",
              "  </style>\n",
              "\n",
              "      <script>\n",
              "        const buttonEl =\n",
              "          document.querySelector('#df-4667016a-2d29-46ba-8bdc-6e7c951396ee button.colab-df-convert');\n",
              "        buttonEl.style.display =\n",
              "          google.colab.kernel.accessAllowed ? 'block' : 'none';\n",
              "\n",
              "        async function convertToInteractive(key) {\n",
              "          const element = document.querySelector('#df-4667016a-2d29-46ba-8bdc-6e7c951396ee');\n",
              "          const dataTable =\n",
              "            await google.colab.kernel.invokeFunction('convertToInteractive',\n",
              "                                                     [key], {});\n",
              "          if (!dataTable) return;\n",
              "\n",
              "          const docLinkHtml = 'Like what you see? Visit the ' +\n",
              "            '<a target=\"_blank\" href=https://colab.research.google.com/notebooks/data_table.ipynb>data table notebook</a>'\n",
              "            + ' to learn more about interactive tables.';\n",
              "          element.innerHTML = '';\n",
              "          dataTable['output_type'] = 'display_data';\n",
              "          await google.colab.output.renderOutput(dataTable, element);\n",
              "          const docLink = document.createElement('div');\n",
              "          docLink.innerHTML = docLinkHtml;\n",
              "          element.appendChild(docLink);\n",
              "        }\n",
              "      </script>\n",
              "    </div>\n",
              "  </div>\n",
              "  "
            ]
          },
          "metadata": {},
          "execution_count": 45
        }
      ]
    },
    {
      "cell_type": "code",
      "source": [
        "sns.lmplot(x='principal_component_1', y='principal_component_2', data=finalDf_2_pca, hue='species', fit_reg=False)"
      ],
      "metadata": {
        "colab": {
          "base_uri": "https://localhost:8080/",
          "height": 386
        },
        "id": "Tyeu052tEukK",
        "outputId": "96a5cfc5-db9e-4cc7-bb23-abd030edb11f"
      },
      "execution_count": 46,
      "outputs": [
        {
          "output_type": "execute_result",
          "data": {
            "text/plain": [
              "<seaborn.axisgrid.FacetGrid at 0x7f6867d92d50>"
            ]
          },
          "metadata": {},
          "execution_count": 46
        },
        {
          "output_type": "display_data",
          "data": {
            "text/plain": [
              "<Figure size 444.75x360 with 1 Axes>"
            ],
            "image/png": "[encoded data removed]"
          },
          "metadata": {
            "needs_background": "light"
          }
        }
      ]
    },
    {
      "cell_type": "code",
      "source": [
        "x= finalDf_2_pca[['principal_component_1','principal_component_2']]\n",
        "y= finalDf_2_pca[['species']]\n",
        "x_train,x_test,y_train,y_test=train_test_split(x,y,test_size=0.2,random_state=123)"
      ],
      "metadata": {
        "id": "zQwGvaBcF2Pt"
      },
      "execution_count": 47,
      "outputs": []
    },
    {
      "cell_type": "code",
      "source": [
        "from sklearn.neighbors import KNeighborsClassifier\n",
        "knn = KNeighborsClassifier(n_neighbors=6)\n",
        "knn.fit(x_train, y_train)\n",
        "print(\"The accuracy of KNN in after PCA of two principal components\")\n",
        "knn.score(x_test, y_test)"
      ],
      "metadata": {
        "colab": {
          "base_uri": "https://localhost:8080/"
        },
        "id": "0wEgzxvqGONG",
        "outputId": "a6d30669-b9dc-4b51-9e53-bdb0ee17a2c8"
      },
      "execution_count": 48,
      "outputs": [
        {
          "output_type": "stream",
          "name": "stdout",
          "text": [
            "The accuracy of KNN in after PCA of two principal components\n"
          ]
        },
        {
          "output_type": "execute_result",
          "data": {
            "text/plain": [
              "0.8333333333333334"
            ]
          },
          "metadata": {},
          "execution_count": 48
        }
      ]
    },
    {
      "cell_type": "code",
      "source": [
        "mlp=MLPClassifier(hidden_layer_sizes=(100,), activation='relu', solver='adam', alpha=0.0001, max_iter=800)\n",
        "mlp.fit(x_train,y_train)\n",
        "print(\"The accuracy of MLP in after PCA of two principal components\")\n",
        "mlp.score(x_test, y_test)"
      ],
      "metadata": {
        "colab": {
          "base_uri": "https://localhost:8080/"
        },
        "id": "tGOGpj6GGUIO",
        "outputId": "e5511994-97f0-4ce1-afdb-67e85d1d5728"
      },
      "execution_count": 49,
      "outputs": [
        {
          "output_type": "stream",
          "name": "stdout",
          "text": [
            "The accuracy of MLP in after PCA of two principal components\n"
          ]
        },
        {
          "output_type": "execute_result",
          "data": {
            "text/plain": [
              "0.8333333333333334"
            ]
          },
          "metadata": {},
          "execution_count": 49
        }
      ]
    },
    {
      "cell_type": "code",
      "source": [
        "clf = svm.SVC()\n",
        "clf.fit(x_train, y_train)\n",
        "print(\"The accuracy of SVM in after PCA of two principal components\")\n",
        "clf.score(x_test, y_test)"
      ],
      "metadata": {
        "colab": {
          "base_uri": "https://localhost:8080/"
        },
        "id": "CFK2eRCzGY7v",
        "outputId": "40453532-b05e-480a-ae0b-067c983ee43f"
      },
      "execution_count": 50,
      "outputs": [
        {
          "output_type": "stream",
          "name": "stdout",
          "text": [
            "The accuracy of SVM in after PCA of two principal components\n"
          ]
        },
        {
          "output_type": "execute_result",
          "data": {
            "text/plain": [
              "0.8333333333333334"
            ]
          },
          "metadata": {},
          "execution_count": 50
        }
      ]
    },
    {
      "cell_type": "code",
      "source": [
        "svclf  =  make_pipeline(StandardScaler(), SVC(gamma='auto'))\n",
        "svclf.fit(x_train, y_train)\n",
        "print(\"The accuracy of SVM_CVC in after PCA of two principal components\")\n",
        "svclf.score(x_test, y_test)"
      ],
      "metadata": {
        "colab": {
          "base_uri": "https://localhost:8080/"
        },
        "id": "iF3Ve_FcGd4e",
        "outputId": "0a484c0c-a494-49cc-9980-a21de9631f15"
      },
      "execution_count": 51,
      "outputs": [
        {
          "output_type": "stream",
          "name": "stdout",
          "text": [
            "The accuracy of SVM_CVC in after PCA of two principal components\n"
          ]
        },
        {
          "output_type": "execute_result",
          "data": {
            "text/plain": [
              "0.8333333333333334"
            ]
          },
          "metadata": {},
          "execution_count": 51
        }
      ]
    },
    {
      "cell_type": "code",
      "source": [
        "clf2 = LogisticRegression()\n",
        "clf2.fit(x_train, y_train)\n",
        "print(\"The accuracy of Logistic Regression in after PCA of two principal components\")\n",
        "clf2.score(x_test, y_test)"
      ],
      "metadata": {
        "colab": {
          "base_uri": "https://localhost:8080/"
        },
        "id": "F9CFQNwlGjYU",
        "outputId": "fcb01c63-431d-45e4-f685-52496476f5c9"
      },
      "execution_count": 52,
      "outputs": [
        {
          "output_type": "stream",
          "name": "stdout",
          "text": [
            "The accuracy of Logistic Regression in after PCA of two principal components\n"
          ]
        },
        {
          "output_type": "execute_result",
          "data": {
            "text/plain": [
              "0.8333333333333334"
            ]
          },
          "metadata": {},
          "execution_count": 52
        }
      ]
    },
    {
      "cell_type": "code",
      "source": [
        "clf3 = tree.DecisionTreeClassifier()\n",
        "clf3 = clf3.fit(x_train, y_train)\n",
        "print(\"The accuracy of Decision Tree in after PCA of two principal components\")\n",
        "clf3.score(x_test, y_test)"
      ],
      "metadata": {
        "colab": {
          "base_uri": "https://localhost:8080/"
        },
        "id": "bc0sDJcCGprH",
        "outputId": "53f4aa98-cf07-4b79-ef54-029652933635"
      },
      "execution_count": 53,
      "outputs": [
        {
          "output_type": "stream",
          "name": "stdout",
          "text": [
            "The accuracy of Decision Tree in after PCA of two principal components\n"
          ]
        },
        {
          "output_type": "execute_result",
          "data": {
            "text/plain": [
              "0.8666666666666667"
            ]
          },
          "metadata": {},
          "execution_count": 53
        }
      ]
    },
    {
      "cell_type": "code",
      "source": [
        "clf5 = RandomForestClassifier(n_estimators = 140)\n",
        "clf5.fit(x_train, y_train)\n",
        "print(\"The accuracy of Decision Tree in after Random Forrest of two principal components\")\n",
        "clf5.score(x_test, y_test)"
      ],
      "metadata": {
        "colab": {
          "base_uri": "https://localhost:8080/"
        },
        "id": "BtnJm7sCGtSm",
        "outputId": "700dd6b0-4348-4c72-c197-5573cddbe682"
      },
      "execution_count": 54,
      "outputs": [
        {
          "output_type": "stream",
          "name": "stdout",
          "text": [
            "The accuracy of Decision Tree in after Random Forrest of two principal components\n"
          ]
        },
        {
          "output_type": "execute_result",
          "data": {
            "text/plain": [
              "0.8333333333333334"
            ]
          },
          "metadata": {},
          "execution_count": 54
        }
      ]
    }
  ]
}